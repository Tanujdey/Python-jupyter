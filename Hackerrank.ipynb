{
 "cells": [
  {
   "cell_type": "code",
   "execution_count": 5,
   "metadata": {
    "scrolled": true
   },
   "outputs": [
    {
     "name": "stdout",
     "output_type": "stream",
     "text": [
      "Enter a no:3\n",
      "123"
     ]
    }
   ],
   "source": [
    "n = int(input(\"Enter a no:\"))\n",
    "for i in range(1,n+1):\n",
    "    print(i,end='')"
   ]
  },
  {
   "cell_type": "code",
   "execution_count": 3,
   "metadata": {},
   "outputs": [
    {
     "name": "stdout",
     "output_type": "stream",
     "text": [
      "Enter a no:1922\n",
      "False\n"
     ]
    }
   ],
   "source": [
    "def is_leap(year):\n",
    "    leap = False\n",
    "    if year % 4 == 0 and (year % 400 == 0 or year % 100 != 0):\n",
    "        return True\n",
    "    \n",
    "    return leap\n",
    "        \n",
    "\n",
    "year = int(input(\"Enter a no:\"))\n",
    "print(is_leap(year))"
   ]
  },
  {
   "cell_type": "code",
   "execution_count": 7,
   "metadata": {},
   "outputs": [
    {
     "name": "stdout",
     "output_type": "stream",
     "text": [
      "Enter a no:88\n",
      "Not wierd\n"
     ]
    }
   ],
   "source": [
    "n = int(input(\"Enter a no:\"))\n",
    "\n",
    "if n % 2 == 1:\n",
    "    print('wierd')\n",
    "elif n % 2 == 0 and 2<= n <= 5:\n",
    "    print('Not wierd')\n",
    "elif n % 2 == 0 and 6<= n <= 20:\n",
    "    print('wierd')\n",
    "else:\n",
    "    print(\"Not wierd\")\n",
    "    "
   ]
  },
  {
   "cell_type": "code",
   "execution_count": 11,
   "metadata": {},
   "outputs": [
    {
     "data": {
      "text/plain": [
       "[]"
      ]
     },
     "execution_count": 11,
     "metadata": {},
     "output_type": "execute_result"
    }
   ],
   "source": [
    "list()"
   ]
  },
  {
   "cell_type": "code",
   "execution_count": 12,
   "metadata": {
    "collapsed": true
   },
   "outputs": [],
   "source": [
    "arr = list()"
   ]
  },
  {
   "cell_type": "code",
   "execution_count": 13,
   "metadata": {},
   "outputs": [
    {
     "data": {
      "text/plain": [
       "[]"
      ]
     },
     "execution_count": 13,
     "metadata": {},
     "output_type": "execute_result"
    }
   ],
   "source": [
    "arr"
   ]
  },
  {
   "cell_type": "code",
   "execution_count": 14,
   "metadata": {
    "collapsed": true
   },
   "outputs": [],
   "source": [
    "arr = []"
   ]
  },
  {
   "cell_type": "code",
   "execution_count": 15,
   "metadata": {},
   "outputs": [
    {
     "data": {
      "text/plain": [
       "[]"
      ]
     },
     "execution_count": 15,
     "metadata": {},
     "output_type": "execute_result"
    }
   ],
   "source": [
    "arr"
   ]
  },
  {
   "cell_type": "code",
   "execution_count": 19,
   "metadata": {
    "collapsed": true
   },
   "outputs": [],
   "source": [
    "arr = [1,2,3,4]"
   ]
  },
  {
   "cell_type": "code",
   "execution_count": 20,
   "metadata": {},
   "outputs": [
    {
     "name": "stdout",
     "output_type": "stream",
     "text": [
      "[1, 2, 3, 4]\n"
     ]
    }
   ],
   "source": [
    "print(arr)"
   ]
  },
  {
   "cell_type": "code",
   "execution_count": 21,
   "metadata": {},
   "outputs": [
    {
     "name": "stdout",
     "output_type": "stream",
     "text": [
      "3\n"
     ]
    }
   ],
   "source": [
    "print(arr[0]+arr[1])"
   ]
  },
  {
   "cell_type": "code",
   "execution_count": 22,
   "metadata": {
    "collapsed": true
   },
   "outputs": [],
   "source": [
    "arr.append(9)"
   ]
  },
  {
   "cell_type": "code",
   "execution_count": 23,
   "metadata": {},
   "outputs": [
    {
     "data": {
      "text/plain": [
       "[1, 2, 3, 4, 9]"
      ]
     },
     "execution_count": 23,
     "metadata": {},
     "output_type": "execute_result"
    }
   ],
   "source": [
    "arr"
   ]
  },
  {
   "cell_type": "code",
   "execution_count": 24,
   "metadata": {
    "collapsed": true
   },
   "outputs": [],
   "source": [
    "arr2 = [10,22]"
   ]
  },
  {
   "cell_type": "code",
   "execution_count": 25,
   "metadata": {},
   "outputs": [
    {
     "data": {
      "text/plain": [
       "[10, 22]"
      ]
     },
     "execution_count": 25,
     "metadata": {},
     "output_type": "execute_result"
    }
   ],
   "source": [
    "arr2"
   ]
  },
  {
   "cell_type": "code",
   "execution_count": 26,
   "metadata": {
    "collapsed": true
   },
   "outputs": [],
   "source": [
    "arr.extend(arr2)"
   ]
  },
  {
   "cell_type": "code",
   "execution_count": 27,
   "metadata": {},
   "outputs": [
    {
     "data": {
      "text/plain": [
       "[1, 2, 3, 4, 9, 10, 22]"
      ]
     },
     "execution_count": 27,
     "metadata": {},
     "output_type": "execute_result"
    }
   ],
   "source": [
    "arr"
   ]
  },
  {
   "cell_type": "code",
   "execution_count": 28,
   "metadata": {
    "collapsed": true
   },
   "outputs": [],
   "source": [
    "#inserting the element x at i posotion"
   ]
  },
  {
   "cell_type": "code",
   "execution_count": 29,
   "metadata": {
    "collapsed": true
   },
   "outputs": [],
   "source": [
    "arr.insert(3,'string')"
   ]
  },
  {
   "cell_type": "code",
   "execution_count": 32,
   "metadata": {},
   "outputs": [
    {
     "data": {
      "text/plain": [
       "[1, 2, 3, 'string', 4, 9, 10, 22]"
      ]
     },
     "execution_count": 32,
     "metadata": {},
     "output_type": "execute_result"
    }
   ],
   "source": [
    "arr"
   ]
  },
  {
   "cell_type": "code",
   "execution_count": 33,
   "metadata": {
    "collapsed": true
   },
   "outputs": [],
   "source": [
    "arr.remove(22)"
   ]
  },
  {
   "cell_type": "code",
   "execution_count": 34,
   "metadata": {},
   "outputs": [
    {
     "data": {
      "text/plain": [
       "[1, 2, 3, 'string', 4, 9, 10]"
      ]
     },
     "execution_count": 34,
     "metadata": {},
     "output_type": "execute_result"
    }
   ],
   "source": [
    "arr"
   ]
  },
  {
   "cell_type": "code",
   "execution_count": 35,
   "metadata": {
    "collapsed": true
   },
   "outputs": [],
   "source": [
    "temp = arr.pop()"
   ]
  },
  {
   "cell_type": "code",
   "execution_count": 36,
   "metadata": {},
   "outputs": [
    {
     "data": {
      "text/plain": [
       "10"
      ]
     },
     "execution_count": 36,
     "metadata": {},
     "output_type": "execute_result"
    }
   ],
   "source": [
    "temp"
   ]
  },
  {
   "cell_type": "code",
   "execution_count": 37,
   "metadata": {
    "collapsed": true
   },
   "outputs": [],
   "source": [
    "#last elemets pop out"
   ]
  },
  {
   "cell_type": "code",
   "execution_count": 51,
   "metadata": {
    "collapsed": true
   },
   "outputs": [],
   "source": [
    "arr.reverse()"
   ]
  },
  {
   "cell_type": "code",
   "execution_count": 10,
   "metadata": {},
   "outputs": [
    {
     "name": "stdout",
     "output_type": "stream",
     "text": [
      "1234\n"
     ]
    }
   ],
   "source": [
    "input_line = input()"
   ]
  },
  {
   "cell_type": "code",
   "execution_count": 26,
   "metadata": {
    "collapsed": true
   },
   "outputs": [],
   "source": [
    "input_list = input_line.split()"
   ]
  },
  {
   "cell_type": "code",
   "execution_count": 27,
   "metadata": {},
   "outputs": [
    {
     "data": {
      "text/plain": [
       "['1234']"
      ]
     },
     "execution_count": 27,
     "metadata": {},
     "output_type": "execute_result"
    }
   ],
   "source": [
    "input_list"
   ]
  },
  {
   "cell_type": "markdown",
   "metadata": {},
   "source": [
    " "
   ]
  },
  {
   "cell_type": "code",
   "execution_count": 13,
   "metadata": {},
   "outputs": [
    {
     "name": "stdout",
     "output_type": "stream",
     "text": [
      "Enter Limits:2\n",
      "1 X 1 = 1\n",
      "1 X 2 = 2\n",
      "1 X 3 = 3\n",
      "1 X 4 = 4\n",
      "1 X 5 = 5\n",
      "1 X 6 = 6\n",
      "1 X 7 = 7\n",
      "1 X 8 = 8\n",
      "1 X 9 = 9\n",
      "1 X 10 = 10\n",
      "---------\n",
      "2 X 1 = 2\n",
      "2 X 2 = 4\n",
      "2 X 3 = 6\n",
      "2 X 4 = 8\n",
      "2 X 5 = 10\n",
      "2 X 6 = 12\n",
      "2 X 7 = 14\n",
      "2 X 8 = 16\n",
      "2 X 9 = 18\n",
      "2 X 10 = 20\n",
      "---------\n"
     ]
    }
   ],
   "source": [
    "limit = int(input(\"Enter Limits:\"))\n",
    "for i in range(1,limit+1):\n",
    "    for j in range(1,11):\n",
    "        print(i, \"X\", j, \"=\", i*j)\n",
    "    print(\"---------\") \n"
   ]
  },
  {
   "cell_type": "code",
   "execution_count": 17,
   "metadata": {},
   "outputs": [
    {
     "name": "stdout",
     "output_type": "stream",
     "text": [
      "cat odd length 3\n",
      "window even length 6\n",
      "demostrate even length 10\n"
     ]
    }
   ],
   "source": [
    "words = ['cat','window','demostrate']\n",
    "for w in words:\n",
    "    if len(w)%2 == 0:\n",
    "        print(w,\"even length\",len(w))\n",
    "    else:\n",
    "        print(w,\"odd length\",len(w))"
   ]
  },
  {
   "cell_type": "code",
   "execution_count": 27,
   "metadata": {},
   "outputs": [
    {
     "name": "stdout",
     "output_type": "stream",
     "text": [
      "0 - Mary\n",
      "1 - had\n",
      "2 - a\n",
      "3 - little\n",
      "4 - lamb\n"
     ]
    }
   ],
   "source": [
    "st = \"Mary had a little lamb\"\n",
    "a = st.split()\n",
    "#to traverse the index\n",
    "for i in range(len(a)):\n",
    "    print(i,\"-\",a[i])"
   ]
  },
  {
   "cell_type": "code",
   "execution_count": 24,
   "metadata": {},
   "outputs": [
    {
     "name": "stdout",
     "output_type": "stream",
     "text": [
      "Mary\n",
      "had\n",
      "a\n",
      "little\n",
      "lamb\n"
     ]
    }
   ],
   "source": [
    "for i in a:\n",
    "    print (i)"
   ]
  },
  {
   "cell_type": "code",
   "execution_count": 40,
   "metadata": {},
   "outputs": [
    {
     "name": "stdout",
     "output_type": "stream",
     "text": [
      "9\n",
      "2 prime\n",
      "3 prime\n",
      "4 ------Not prime\n",
      "5 prime\n",
      "6 ------Not prime\n",
      "7 prime\n",
      "8 ------Not prime\n",
      "9 ------Not prime\n"
     ]
    }
   ],
   "source": [
    "# To check the prime nos in the givn limit of the nos\n",
    "n = int(input())\n",
    "for i in range(1,n+1):\n",
    "    if i> 1:\n",
    "        for k in range(2,i):\n",
    "            if i%k == 0:\n",
    "                print (i,\"------Not prime\")\n",
    "                break\n",
    "        else:\n",
    "            print (i,\"prime\")"
   ]
  },
  {
   "cell_type": "code",
   "execution_count": 58,
   "metadata": {},
   "outputs": [
    {
     "name": "stdout",
     "output_type": "stream",
     "text": [
      "[1, 3, 2, 4, 5, 6, 7, 8]\n"
     ]
    }
   ],
   "source": [
    "# remove duplicate elements form the list\n",
    "\n",
    "def dup_check(lists):\n",
    "    u_list=[]\n",
    "    for item in lists:\n",
    "        if item not in u_list:\n",
    "            u_list.append(item)\n",
    "        \n",
    "    return u_list\n",
    "li = [1,1,3,2,2,2,3,4,5,6,7,8,]\n",
    "print (dup_check(li))"
   ]
  },
  {
   "cell_type": "code",
   "execution_count": 78,
   "metadata": {},
   "outputs": [
    {
     "name": "stdout",
     "output_type": "stream",
     "text": [
      "4,5,"
     ]
    }
   ],
   "source": [
    "# another methods\n",
    "\n",
    "def duplicate_check(li,arr_size):\n",
    "    for i in range(0,arr_size):\n",
    "        for j in range(i+1,arr_size):\n",
    "            if li[i] == li[j]:\n",
    "                print(li[i],end=\",\")\n",
    "lis = [1,2,3,4,4,5,5,6]  \n",
    "arr_size = len(lis)\n",
    "duplicate_check(lis,arr_size)"
   ]
  },
  {
   "cell_type": "code",
   "execution_count": 99,
   "metadata": {},
   "outputs": [
    {
     "name": "stdout",
     "output_type": "stream",
     "text": [
      "5\n",
      "[0, 1, 2, 3, 4]\n"
     ]
    }
   ],
   "source": [
    "#----Reading the limit value and storing it into the list\n",
    "\n",
    "n = int(input())\n",
    "#print (n)\n",
    "arr =[]\n",
    "for i in range(n):\n",
    "    arr.append(i)\n",
    "print (arr)"
   ]
  },
  {
   "cell_type": "code",
   "execution_count": 100,
   "metadata": {},
   "outputs": [
    {
     "data": {
      "text/plain": [
       "[1, 2, 3, 4]"
      ]
     },
     "execution_count": 100,
     "metadata": {},
     "output_type": "execute_result"
    }
   ],
   "source": [
    "# above Solution in LIST Comprehensions\n",
    "num = [no for no in range(1,5)]\n",
    "num"
   ]
  },
  {
   "cell_type": "code",
   "execution_count": 29,
   "metadata": {},
   "outputs": [
    {
     "name": "stdout",
     "output_type": "stream",
     "text": [
      "Read the string value:a\n",
      "Read the string value:s\n",
      "Read the string value:d\n",
      "Read the string value:f\n",
      "Read the string value:g\n",
      "Read the string value:x\n",
      "X\n"
     ]
    }
   ],
   "source": [
    "# String Operations\n",
    "strs = ''\n",
    "while not (strs == 'X' or strs == 'O'):\n",
    "    strs = input(\"Read the string value:\").upper()\n",
    "print (strs)"
   ]
  },
  {
   "cell_type": "code",
   "execution_count": 38,
   "metadata": {
    "scrolled": true
   },
   "outputs": [
    {
     "name": "stdout",
     "output_type": "stream",
     "text": [
      "Read a String with duplicate letters:array\n",
      "a\n",
      "r\n"
     ]
    }
   ],
   "source": [
    "# duplicate string\n",
    "def dup_string(string,size):\n",
    "    for i in range(0,size):\n",
    "        for j in range(i+1,size):\n",
    "            if string[i] == string[j]:\n",
    "                print (string[i])\n",
    "\n",
    "\n",
    "st = input(\"Read a String with duplicate letters:\")\n",
    "st_size = len(st)\n",
    "dup_string(st,st_size)"
   ]
  },
  {
   "cell_type": "code",
   "execution_count": 33,
   "metadata": {},
   "outputs": [
    {
     "name": "stdout",
     "output_type": "stream",
     "text": [
      "IS\n",
      "TO\n"
     ]
    }
   ],
   "source": [
    "word = \"This IS tHe given String TO Iterate THE full striNg\"\n",
    "for w in word.split():\n",
    "    if len(w) %2 == 0 and w.isupper():\n",
    "        print(w)"
   ]
  },
  {
   "cell_type": "code",
   "execution_count": 8,
   "metadata": {},
   "outputs": [
    {
     "name": "stdout",
     "output_type": "stream",
     "text": [
      "2 4 8\n",
      "Printing in the string format:  2 <class 'str'> 4 8\n",
      "ans =  2 4 8 <class 'int'>\n"
     ]
    }
   ],
   "source": [
    "# cannot take multiple integers at a time \n",
    "a,b,c = input().strip().split(' ')\n",
    "print(\"Printing in the string format: \",a,type(a),b,c)\n",
    "a,b,c = [int(a),int(b),int(c)] # converting all the string values to integer\n",
    "print (\"ans = \",a,b,c,type(a))"
   ]
  },
  {
   "cell_type": "code",
   "execution_count": 15,
   "metadata": {
    "scrolled": true
   },
   "outputs": [
    {
     "name": "stdout",
     "output_type": "stream",
     "text": [
      "Enter no of testCases:4\n",
      "Read  age-1\n",
      "Age is not valid, setting the age is 0\n",
      "You are young\n",
      "You are young\n",
      "\n",
      "Read  age15\n",
      "You are a teenager\n",
      "You are old\n",
      "\n",
      "Read  age25\n",
      "You are old\n",
      "You are old\n",
      "\n",
      "Read  age5\n",
      "You are young\n",
      "You are young\n",
      "\n"
     ]
    }
   ],
   "source": [
    "# Class Vs Instances Using Class and Objects\n",
    "class Person:\n",
    "    def __init__(self,initialAge):\n",
    "        self.age = initialAge\n",
    "        if initialAge < 0:\n",
    "            self.age = 0\n",
    "            print(\"Age is not valid, setting the age is 0\")\n",
    "            \n",
    "    def check_age(self):\n",
    "        if self.age < 13:\n",
    "            print(\"You are young\")\n",
    "        elif self.age >= 13 and self.age < 18:\n",
    "            print(\"You are a teenager\")\n",
    "        else:\n",
    "            print(\"You are old\")\n",
    "            \n",
    "    def yearPass(self):\n",
    "        self.age = self.age + 1\n",
    "        \n",
    "        \n",
    "\n",
    "t = int(input(\"Enter no of testCases:\"))\n",
    "for i in range(0,t):\n",
    "    age = int(input(\"Read  age\"))\n",
    "    p = Person(age)\n",
    "    p.check_age()\n",
    "    for j in range(0,3):\n",
    "        p.yearPass()\n",
    "    p.check_age()\n",
    "    print(\"\")"
   ]
  },
  {
   "cell_type": "code",
   "execution_count": 59,
   "metadata": {},
   "outputs": [
    {
     "name": "stdout",
     "output_type": "stream",
     "text": [
      "Read the limit to check prime no:10\n",
      "not prime\n",
      "--------------prime no 2\n",
      "--------------prime no 3\n",
      "not prime 4\n",
      "--------------prime no 5\n",
      "not prime 6\n",
      "--------------prime no 7\n",
      "not prime 8\n",
      "not prime 9\n",
      "not prime 10\n"
     ]
    }
   ],
   "source": [
    "# checking the prime nos\n",
    "n = int(input(\"Read the limit to check prime no:\"))\n",
    "for i in range(1,n+1):\n",
    "    if i > 1:\n",
    "        isprime = 0\n",
    "        for j in range(2,i):\n",
    "            if i%j == 0:\n",
    "                isprime = 1\n",
    "                break\n",
    "\n",
    "    if i == 1:\n",
    "        print(\"not prime\")\n",
    "    elif isprime ==0:\n",
    "        print(\"--------------prime no\",i)\n",
    "    else:\n",
    "        print(\"not prime\",i)"
   ]
  },
  {
   "cell_type": "code",
   "execution_count": null,
   "metadata": {
    "collapsed": true
   },
   "outputs": [],
   "source": []
  }
 ],
 "metadata": {
  "kernelspec": {
   "display_name": "Python 3",
   "language": "python",
   "name": "python3"
  },
  "language_info": {
   "codemirror_mode": {
    "name": "ipython",
    "version": 3
   },
   "file_extension": ".py",
   "mimetype": "text/x-python",
   "name": "python",
   "nbconvert_exporter": "python",
   "pygments_lexer": "ipython3",
   "version": "3.5.2"
  }
 },
 "nbformat": 4,
 "nbformat_minor": 2
}
