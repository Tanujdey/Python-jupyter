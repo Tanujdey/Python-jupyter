{
 "cells": [
  {
   "cell_type": "code",
   "execution_count": 5,
   "metadata": {},
   "outputs": [
    {
     "name": "stdout",
     "output_type": "stream",
     "text": [
      "Enter a no:3\n",
      "123"
     ]
    }
   ],
   "source": [
    "n = int(input(\"Enter a no:\"))\n",
    "for i in range(1,n+1):\n",
    "    print(i,end='')"
   ]
  },
  {
   "cell_type": "code",
   "execution_count": 3,
   "metadata": {},
   "outputs": [
    {
     "name": "stdout",
     "output_type": "stream",
     "text": [
      "Enter a no:1922\n",
      "False\n"
     ]
    }
   ],
   "source": [
    "def is_leap(year):\n",
    "    leap = False\n",
    "    if year % 4 == 0 and (year % 400 == 0 or year % 100 != 0):\n",
    "        return True\n",
    "    \n",
    "    return leap\n",
    "        \n",
    "\n",
    "year = int(input(\"Enter a no:\"))\n",
    "print(is_leap(year))"
   ]
  },
  {
   "cell_type": "code",
   "execution_count": 5,
   "metadata": {},
   "outputs": [
    {
     "name": "stdout",
     "output_type": "stream",
     "text": [
      "Enter a no:11\n",
      "wierd\n"
     ]
    }
   ],
   "source": [
    "n = int(input(\"Enter a no:\"))\n",
    "\n",
    "if n % 2 == 1:\n",
    "    print('wierd')\n",
    "elif n % 2 == 0 and 2<= n <= 5:\n",
    "    print('Not wierd')\n",
    "elif n % 2 == 0 and 6<= n <= 20:\n",
    "    print('wierd')\n",
    "else:\n",
    "    print(\"Not wierd\")\n",
    "    "
   ]
  },
  {
   "cell_type": "code",
   "execution_count": null,
   "metadata": {
    "collapsed": true
   },
   "outputs": [],
   "source": []
  }
 ],
 "metadata": {
  "kernelspec": {
   "display_name": "Python 3",
   "language": "python",
   "name": "python3"
  }
 },
 "nbformat": 4,
 "nbformat_minor": 2
}
