{
 "cells": [
  {
   "cell_type": "markdown",
   "metadata": {},
   "source": [
    "\n",
    "## keypoints of milestone projects and its all functionalities \n",
    "## Extra Notes\n"
   ]
  },
  {
   "cell_type": "code",
   "execution_count": 1,
   "metadata": {
    "collapsed": true
   },
   "outputs": [],
   "source": [
    "# clear Optput \n",
    "from IPython.display import clear_output\n",
    "#this is used for clear the screen"
   ]
  },
  {
   "cell_type": "code",
   "execution_count": 2,
   "metadata": {},
   "outputs": [
    {
     "name": "stdout",
     "output_type": "stream",
     "text": [
      "World\n"
     ]
    }
   ],
   "source": [
    "print \"Hello\"\n",
    "clear_output()\n",
    "print \"World\"\n",
    "# \"Hello\" is cleared so world is printing"
   ]
  },
  {
   "cell_type": "code",
   "execution_count": 3,
   "metadata": {},
   "outputs": [
    {
     "name": "stdout",
     "output_type": "stream",
     "text": [
      "    |   |  \n",
      "    |   |  \n",
      "-------------\n",
      "    |   |  \n",
      "    |   |  \n",
      "-------------\n",
      "    |   |  \n",
      "    |   |  \n"
     ]
    }
   ],
   "source": [
    "# this is a sample of the board printing\n",
    "def display_board():\n",
    "   # clear_output()\n",
    "    \n",
    "    print ('    |   |  ')\n",
    "    print ('    |   |  ')\n",
    "    print ('-------------')\n",
    "    print ('    |   |  ')\n",
    "    print ('    |   |  ')\n",
    "    print ('-------------')\n",
    "    print ('    |   |  ')\n",
    "    print ('    |   |  ')\n",
    "display_board()"
   ]
  },
  {
   "cell_type": "code",
   "execution_count": 4,
   "metadata": {
    "collapsed": true
   },
   "outputs": [],
   "source": [
    "# now draw the final board with the board lists\n",
    "def display_board(board):\n",
    "    #clear_output()\n",
    "    \n",
    "    print ('   |   |  ')\n",
    "    print (' ' +board[7]+ ' | ' +board[8]+' | ' +board[9])\n",
    "    print ('   |   |  ')\n",
    "    print ('-----------')\n",
    "    print ('   |   |  ')\n",
    "    print (' ' +board[4]+' | ' +board[5]+' | ' +board[6])\n",
    "    print ('   |   |  ')\n",
    "    print ('-----------')\n",
    "    print ('   |   |  ')\n",
    "    print (' ' +board[1]+' | ' +board[2]+' | ' + board[3])\n",
    "    print ('   |   |  ')\n",
    "    "
   ]
  },
  {
   "cell_type": "code",
   "execution_count": 5,
   "metadata": {
    "scrolled": false
   },
   "outputs": [
    {
     "name": "stdout",
     "output_type": "stream",
     "text": [
      "   |   |  \n",
      " x | x | x\n",
      "   |   |  \n",
      "-----------\n",
      "   |   |  \n",
      " x | x | x\n",
      "   |   |  \n",
      "-----------\n",
      "   |   |  \n",
      " x | x | x\n",
      "   |   |  \n"
     ]
    }
   ],
   "source": [
    "boards = ['x']*10\n",
    "display_board(boards)"
   ]
  },
  {
   "cell_type": "markdown",
   "metadata": {},
   "source": [
    "#### Read input repeatedly from the user untill user puts correct \n",
    "#### use \"While not\" loops"
   ]
  },
  {
   "cell_type": "code",
   "execution_count": null,
   "metadata": {
    "collapsed": true
   },
   "outputs": [],
   "source": []
  },
  {
   "cell_type": "code",
   "execution_count": 14,
   "metadata": {},
   "outputs": [
    {
     "name": "stdout",
     "output_type": "stream",
     "text": [
      "Player 1: Do you want to be 'X' or 'O':ads\n",
      "Player 1: Do you want to be 'X' or 'O':asdff\n",
      "Player 1: Do you want to be 'X' or 'O':x\n"
     ]
    },
    {
     "data": {
      "text/plain": [
       "('X', 'O')"
      ]
     },
     "execution_count": 14,
     "metadata": {},
     "output_type": "execute_result"
    }
   ],
   "source": [
    "def player_input():\n",
    "    mark = '' # this is define empty string\n",
    "    while not (mark == 'X' or mark == 'O'): # not in cannot be used because this is string so boolean is not iteratable\n",
    "        mark = raw_input(\"Player 1: Do you want to be 'X' or 'O':\").upper()\n",
    "        \n",
    "    if mark == 'X':\n",
    "        return (\"X\",\"O\")\n",
    "    else:\n",
    "        return (\"O\",\"X\")\n",
    "player_input()"
   ]
  },
  {
   "cell_type": "code",
   "execution_count": 15,
   "metadata": {
    "collapsed": true
   },
   "outputs": [],
   "source": [
    "# random number to check the which player is going first based on 0 and 1\n",
    "import random\n",
    "def choose_first():\n",
    "    if random.randint(0,1) == 0: #return a random interger in range [a,b] including both end points\n",
    "        return \"Player 1\"\n",
    "    else:\n",
    "        return \"Player 2\"\n"
   ]
  },
  {
   "cell_type": "code",
   "execution_count": 16,
   "metadata": {},
   "outputs": [
    {
     "name": "stdout",
     "output_type": "stream",
     "text": [
      "Player 2\n"
     ]
    }
   ],
   "source": [
    "print(choose_first())"
   ]
  },
  {
   "cell_type": "code",
   "execution_count": 17,
   "metadata": {},
   "outputs": [
    {
     "name": "stdout",
     "output_type": "stream",
     "text": [
      "Read any position:9\n",
      "Read any position:8\n",
      "Read any position:7\n",
      "Read any position:6\n",
      "position Found\n"
     ]
    }
   ],
   "source": [
    "#----------------Here checking the while loop condition--------------\n",
    "lis = [1,2,3,4,5,6]\n",
    "def check():\n",
    "    pos = 0\n",
    "    while pos not in lis: # if the entered position is not in the list so condition is true and loop continues untill false occures\n",
    "        pos = int(input(\"Read any position:\"))\n",
    "        # once the condition is false then it comes out the loop \n",
    "        # that is if the user entered the no that present in the given list then the loop stops \n",
    "        # untill the no becomes outside the given list that is the condition is true \n",
    "        # so it will ask repeatedely to enter the number\n",
    "       \n",
    "    if pos in lis:\n",
    "        print(\"position Found\")\n",
    "    else:\n",
    "        print(\"Position Not Found\")\n",
    "check()"
   ]
  },
  {
   "cell_type": "code",
   "execution_count": 18,
   "metadata": {},
   "outputs": [
    {
     "data": {
      "text/plain": [
       "['1', '2', '3', '4', '5', '6', '7', '8']"
      ]
     },
     "execution_count": 18,
     "metadata": {},
     "output_type": "execute_result"
    }
   ],
   "source": [
    "# demo of another type peojects\n",
    "# given the list of nos \n",
    "'1 2 3 4 5 6 7 8'.split()   \n",
    "# which gives the list with spliting the each nos"
   ]
  },
  {
   "cell_type": "code",
   "execution_count": 19,
   "metadata": {},
   "outputs": [
    {
     "data": {
      "text/plain": [
       "True"
      ]
     },
     "execution_count": 19,
     "metadata": {},
     "output_type": "execute_result"
    }
   ],
   "source": [
    "# checking some functionalities\n",
    "my_string = \"Yes\"\n",
    "my_string.lower().startswith('y') \n",
    "#if it matched with startswith then return true it shulod Y after it might be yup or yo etc!"
   ]
  },
  {
   "cell_type": "code",
   "execution_count": 58,
   "metadata": {},
   "outputs": [
    {
     "name": "stdout",
     "output_type": "stream",
     "text": [
      " \n",
      "Do u want to continue:(yes/no)-> yeah\n",
      "Fuction reply() return:  True\n",
      "You entered the right values ! So keep on going!\n",
      " \n",
      "Do u want to continue:(yes/no)-> yes\n",
      "Fuction reply() return:  True\n",
      "You entered the right values ! So keep on going!\n",
      " \n",
      "Do u want to continue:(yes/no)-> No\n",
      "Fuction reply() return:  False\n",
      "The replay() return false ! but we make it true (using if not replay()! that is true) and break the loop\n"
     ]
    }
   ],
   "source": [
    "# checking the How \"NOT\" works in python !!\n",
    "def replay():\n",
    "    st = raw_input(\"Do u want to continue:(yes/no)-> \").lower().startswith(\"y\")\n",
    "    print \"Fuction reply() return: \",st\n",
    "    return st\n",
    "\n",
    "\n",
    "while True:\n",
    "    print (\" \") #here printing the spaces\n",
    "    if not replay():\n",
    "        print(\"The replay() return false ! but we make it true (using if not replay()! that is true) and break the loop\")\n",
    "        break\n",
    "    else:\n",
    "        print(\"You entered the right values ! So keep on going!\")"
   ]
  },
  {
   "cell_type": "code",
   "execution_count": 52,
   "metadata": {},
   "outputs": [
    {
     "name": "stdout",
     "output_type": "stream",
     "text": [
      "Read a No: 12\n",
      "Even No!\n",
      "Do you want check again!!yes\n",
      "Read a No: 14\n",
      "Even No!\n",
      "Do you want check again!!asdff\n",
      "Read a No: 23\n",
      "Odd No!\n",
      "Do you want check again!!n\n"
     ]
    }
   ],
   "source": [
    "#---------------------------asking the user repeatedly -----------------\n",
    "def player_input():\n",
    "    mark = '' # this is define empty string\n",
    "    while not (mark == 'N' or mark == 'NO'): \n",
    "        n = int(input(\"Read a No: \"))\n",
    "        if n%2 == 0:\n",
    "            print('Even No!')\n",
    "        else:\n",
    "            print('Odd No!') \n",
    "        mark = raw_input(\"Do you want check again!!\").upper()\n",
    "player_input()"
   ]
  },
  {
   "cell_type": "code",
   "execution_count": null,
   "metadata": {
    "collapsed": true
   },
   "outputs": [],
   "source": []
  },
  {
   "cell_type": "code",
   "execution_count": 74,
   "metadata": {},
   "outputs": [
    {
     "name": "stdout",
     "output_type": "stream",
     "text": [
      "choose any one value at position: ad\n",
      "Please, Input a no!!\n",
      "choose any one value at position: hai\n",
      "Please, Input a no!!\n",
      "choose any one value at position: hello\n",
      "Please, Input a no!!\n",
      "choose any one value at position: 12\n"
     ]
    }
   ],
   "source": [
    "#-----------------\n",
    "def ask_player():\n",
    "    req = \"choose any one value at position: \"\n",
    "    while True:\n",
    "        try:\n",
    "            choice = int(input(req))\n",
    "        except:\n",
    "            print(\"Please, Input a no!!\")\n",
    "            continue\n",
    "        \n",
    "        else:\n",
    "            break\n",
    "ask_player()"
   ]
  },
  {
   "cell_type": "code",
   "execution_count": null,
   "metadata": {},
   "outputs": [],
   "source": []
  },
  {
   "cell_type": "code",
   "execution_count": null,
   "metadata": {
    "collapsed": true
   },
   "outputs": [],
   "source": []
  }
 ],
 "metadata": {
  "kernelspec": {
   "display_name": "Python 2",
   "language": "python",
   "name": "python2"
  },
  "language_info": {
   "codemirror_mode": {
    "name": "ipython",
    "version": 2
   },
   "file_extension": ".py",
   "mimetype": "text/x-python",
   "name": "python",
   "nbconvert_exporter": "python",
   "pygments_lexer": "ipython2",
   "version": "2.7.14"
  }
 },
 "nbformat": 4,
 "nbformat_minor": 2
}
