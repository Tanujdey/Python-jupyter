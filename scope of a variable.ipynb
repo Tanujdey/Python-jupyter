{
 "cells": [
  {
   "cell_type": "code",
   "execution_count": 13,
   "metadata": {},
   "outputs": [
    {
     "name": "stdout",
     "output_type": "stream",
     "text": [
      "global vlaue of x: 50\n",
      "Local value of x:  100\n"
     ]
    }
   ],
   "source": [
    "x = 50\n",
    "def fuc():\n",
    "    #changing the global x vlaue\n",
    "    x = 100\n",
    "    return x\n",
    "\n",
    "print \"global vlaue of x:\",x\n",
    "print \"Local value of x: \",fuc()"
   ]
  },
  {
   "cell_type": "code",
   "execution_count": 18,
   "metadata": {},
   "outputs": [
    {
     "data": {
      "text/plain": [
       "False"
      ]
     },
     "execution_count": 18,
     "metadata": {},
     "output_type": "execute_result"
    }
   ],
   "source": [
    "fun = lambda x : x%2 == 0 \n",
    "fun(19)"
   ]
  },
  {
   "cell_type": "code",
   "execution_count": 21,
   "metadata": {},
   "outputs": [
    {
     "name": "stdout",
     "output_type": "stream",
     "text": [
      "Hello Allen\n",
      "Name is global to here\n"
     ]
    }
   ],
   "source": [
    "name = \"Name is global to here\"\n",
    "def great():\n",
    "    name =\"Allen\"\n",
    "    # enclosing function\n",
    "    def func():\n",
    "        print \"Hello \"+name\n",
    "    func()\n",
    "great()\n",
    "print name"
   ]
  },
  {
   "cell_type": "code",
   "execution_count": 23,
   "metadata": {},
   "outputs": [
    {
     "name": "stdout",
     "output_type": "stream",
     "text": [
      "Before changing global value, x is:  10\n",
      "global value of x is: 10\n",
      "global value changed to  2\n",
      "After calling the print function the value of x is:  2\n"
     ]
    }
   ],
   "source": [
    "#global keyword\n",
    "x = 10\n",
    "def first():\n",
    "    global x\n",
    "    print \"global value of x is:\",x\n",
    "    x = 2\n",
    "    #it will change the original global value\n",
    "    print \"global value changed to \",x\n",
    "\n",
    "print \"Before changing global value, x is: \",x\n",
    "first()\n",
    "print \"After calling the print function the value of x is: \",x\n",
    "    \n",
    "    "
   ]
  },
  {
   "cell_type": "code",
   "execution_count": null,
   "metadata": {
    "collapsed": true
   },
   "outputs": [],
   "source": []
  }
 ],
 "metadata": {
  "kernelspec": {
   "display_name": "Python 2",
   "language": "python",
   "name": "python2"
  },
  "language_info": {
   "codemirror_mode": {
    "name": "ipython",
    "version": 2
   },
   "file_extension": ".py",
   "mimetype": "text/x-python",
   "name": "python",
   "nbconvert_exporter": "python",
   "pygments_lexer": "ipython2",
   "version": "2.7.14"
  }
 },
 "nbformat": 4,
 "nbformat_minor": 2
}
