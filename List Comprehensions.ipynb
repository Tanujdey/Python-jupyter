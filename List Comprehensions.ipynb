{
 "cells": [
  {
   "cell_type": "code",
   "execution_count": 16,
   "metadata": {},
   "outputs": [
    {
     "name": "stdout",
     "output_type": "stream",
     "text": [
      "['w', 'o', 'r', 'd']\n"
     ]
    }
   ],
   "source": [
    "#simple way to insert into the list\n",
    "li = []\n",
    "for letter in 'word':\n",
    "    li.append(letter)\n",
    "print li"
   ]
  },
  {
   "cell_type": "code",
   "execution_count": 12,
   "metadata": {},
   "outputs": [
    {
     "name": "stdout",
     "output_type": "stream",
     "text": [
      "18\n"
     ]
    }
   ],
   "source": [
    "li =[]\n",
    "count = 0\n",
    "for letter in \"string in the word\":\n",
    "    count += 1\n",
    "    li.append(letter)\n",
    "    \n",
    "print count"
   ]
  },
  {
   "cell_type": "code",
   "execution_count": 96,
   "metadata": {
    "collapsed": true
   },
   "outputs": [],
   "source": [
    "ls = [letter for letter in 'word']"
   ]
  },
  {
   "cell_type": "code",
   "execution_count": 97,
   "metadata": {},
   "outputs": [
    {
     "name": "stdout",
     "output_type": "stream",
     "text": [
      "['w', 'o', 'r', 'd']\n"
     ]
    }
   ],
   "source": [
    "print ls"
   ]
  },
  {
   "cell_type": "code",
   "execution_count": 40,
   "metadata": {},
   "outputs": [
    {
     "name": "stdout",
     "output_type": "stream",
     "text": [
      "[0, 1, 4, 9, 16]\n"
     ]
    }
   ],
   "source": [
    "#simple way to squares the list of numbers\n",
    "l = []\n",
    "for x in xrange(0,5):\n",
    "    l.append(x**2)\n",
    "    \n",
    "print l"
   ]
  },
  {
   "cell_type": "code",
   "execution_count": 56,
   "metadata": {},
   "outputs": [
    {
     "name": "stdout",
     "output_type": "stream",
     "text": [
      "[1, 4, 9, 16]\n"
     ]
    }
   ],
   "source": [
    "#find square no usig list comprehension\n",
    "sq = [x**2 for x in range(1,5)]\n",
    "print sq"
   ]
  },
  {
   "cell_type": "code",
   "execution_count": null,
   "metadata": {
    "collapsed": true
   },
   "outputs": [],
   "source": [
    "#list comprehensions fromat to find even list"
   ]
  },
  {
   "cell_type": "code",
   "execution_count": 62,
   "metadata": {
    "collapsed": true
   },
   "outputs": [],
   "source": [
    "even = [no for no in range(11) if no % 2 ==0]"
   ]
  },
  {
   "cell_type": "code",
   "execution_count": 64,
   "metadata": {},
   "outputs": [
    {
     "name": "stdout",
     "output_type": "stream",
     "text": [
      "[0, 2, 4, 6, 8, 10]\n"
     ]
    }
   ],
   "source": [
    "print even"
   ]
  },
  {
   "cell_type": "code",
   "execution_count": 71,
   "metadata": {},
   "outputs": [
    {
     "name": "stdout",
     "output_type": "stream",
     "text": [
      "Even nos are:\n",
      "[0, 2, 4, 6, 8, 10]\n"
     ]
    }
   ],
   "source": [
    "#printing square with list appending method\n",
    "ev =[]\n",
    "\n",
    "for no in range(11):\n",
    "    if no%2 == 0:\n",
    "        ev.append(no)\n",
    "\n",
    "print 'Even nos are:\\n',ev"
   ]
  },
  {
   "cell_type": "code",
   "execution_count": 74,
   "metadata": {
    "collapsed": true
   },
   "outputs": [],
   "source": [
    "#convert celcius to fahrenheit\n",
    "\n",
    "celcius = [12,10,9,50]\n",
    "\n",
    "fahrenheit = [(temp * 1.8 + 32) for temp in celcius]"
   ]
  },
  {
   "cell_type": "code",
   "execution_count": 75,
   "metadata": {},
   "outputs": [
    {
     "data": {
      "text/plain": [
       "[53.6, 50.0, 48.2, 122.0]"
      ]
     },
     "execution_count": 75,
     "metadata": {},
     "output_type": "execute_result"
    }
   ],
   "source": [
    "fahrenheit"
   ]
  },
  {
   "cell_type": "code",
   "execution_count": 85,
   "metadata": {
    "collapsed": true
   },
   "outputs": [],
   "source": [
    "#nested list comprehensions\n",
    "lst = [x**2 for x in [x**2 for x in range(4)]]\n",
    "#finding the x**4 in the above list"
   ]
  },
  {
   "cell_type": "code",
   "execution_count": 84,
   "metadata": {},
   "outputs": [
    {
     "data": {
      "text/plain": [
       "[0, 1, 16, 81]"
      ]
     },
     "execution_count": 84,
     "metadata": {},
     "output_type": "execute_result"
    }
   ],
   "source": [
    "lst"
   ]
  },
  {
   "cell_type": "code",
   "execution_count": 103,
   "metadata": {},
   "outputs": [
    {
     "name": "stdout",
     "output_type": "stream",
     "text": [
      "[15]\n"
     ]
    }
   ],
   "source": [
    "#printing even non\n",
    "lst1 = [num for num in range(1,20) if num%3 == 0 and num %5 == 0]\n",
    "print lst1"
   ]
  },
  {
   "cell_type": "code",
   "execution_count": 117,
   "metadata": {},
   "outputs": [
    {
     "name": "stdout",
     "output_type": "stream",
     "text": [
      "['Create', 'a', 'list', 'of', 'the', 'first', 'letters', 'of', 'every', 'word', 'in', 'this', 'string']\n",
      "\n",
      "\n",
      "First letters:\n",
      "C a l o t f l o e w i t s \n",
      "\n",
      "printing inside the lists:\n",
      "['C', 'a', 'l', 'o', 't', 'f', 'l', 'o', 'e', 'w', 'i', 't', 's']\n"
     ]
    }
   ],
   "source": [
    "# printing the first letters of each and every words\n",
    "st = 'Create a list of the first letters of every word in this string'\n",
    "#fisrt using for loop\n",
    "#first seperate each word by using split() and put inside the list\n",
    "\n",
    "lst = st.split()\n",
    "print lst\n",
    "\n",
    "print'\\n'\n",
    "# then iterate the loop\n",
    "print 'First letters:'\n",
    "for word in lst:\n",
    "    print word[0],\n",
    "    \n",
    "print '\\n'\n",
    "# keep those first letters insidethe list use append() method\n",
    "print \"printing inside the lists:\"\n",
    "lst2 = []\n",
    "for wrd in lst:\n",
    "    lst2.append(wrd[0])\n",
    "print lst2"
   ]
  },
  {
   "cell_type": "code",
   "execution_count": 118,
   "metadata": {
    "collapsed": true
   },
   "outputs": [],
   "source": [
    "# perform the same this using list comprehension method"
   ]
  },
  {
   "cell_type": "code",
   "execution_count": 120,
   "metadata": {},
   "outputs": [
    {
     "name": "stdout",
     "output_type": "stream",
     "text": [
      "['C', 'a', 'l', 'o', 't', 'f', 'l', 'o', 'e', 'w', 'i', 't', 's']\n"
     ]
    }
   ],
   "source": [
    "st = 'Create a list of the first letters of every word in this string'\n",
    "ls = [word[0] for word in st.split()]\n",
    "print ls"
   ]
  },
  {
   "cell_type": "code",
   "execution_count": 128,
   "metadata": {},
   "outputs": [
    {
     "name": "stdout",
     "output_type": "stream",
     "text": [
      "['Create', 'list', 'of', 'of', 'word', 'in', 'this', 'string']\n"
     ]
    }
   ],
   "source": [
    "# printing the words of even length and store it into the lists\n",
    "st = 'Create a list of the first letters of every word in this string'\n",
    "\n",
    "lsts = [word for word in st.split() if len(word)%2 == 0]\n",
    "print lsts"
   ]
  },
  {
   "cell_type": "code",
   "execution_count": 19,
   "metadata": {},
   "outputs": [
    {
     "name": "stdout",
     "output_type": "stream",
     "text": [
      "only\n",
      "that\n",
      "length\n",
      "even\n",
      "in\n",
      "this\n",
      "sentence\n"
     ]
    }
   ],
   "source": [
    "string = 'Print only the words that has length even in this sentence'\n",
    "st = string.split()\n",
    "for i in st:\n",
    "    if len(i)%2 == 0:\n",
    "        print i\n"
   ]
  },
  {
   "cell_type": "code",
   "execution_count": 131,
   "metadata": {},
   "outputs": [
    {
     "name": "stdout",
     "output_type": "stream",
     "text": [
      "['only', 'that', 'with', 'in', 'this', 'sentence']\n"
     ]
    }
   ],
   "source": [
    "st = 'Print only the words that start with s in this sentence'\n",
    "lst1 = [word for word in st.split() if len(word) % 2 == 0]\n",
    "print lst1"
   ]
  },
  {
   "cell_type": "code",
   "execution_count": 140,
   "metadata": {},
   "outputs": [
    {
     "name": "stdout",
     "output_type": "stream",
     "text": [
      "['start', 's', 'sentence']\n"
     ]
    }
   ],
   "source": [
    "# print those words which starts with 's' using compreshions\n",
    "strng = 'Print only the words that start with s in this sentence'\n",
    "lst2 = st.split()\n",
    "li = [ word for word in lst2 if word[0] == 's' ]\n",
    "print li"
   ]
  },
  {
   "cell_type": "code",
   "execution_count": 17,
   "metadata": {},
   "outputs": [
    {
     "name": "stdout",
     "output_type": "stream",
     "text": [
      "start\n",
      "s\n",
      "sentence\n"
     ]
    }
   ],
   "source": [
    "strng = 'Print only the words that start with s in this sentence'\n",
    "\n",
    "ls = strng.split()\n",
    "for i in ls:\n",
    "    if i[0] == 's':\n",
    "        print i"
   ]
  },
  {
   "cell_type": "code",
   "execution_count": 1,
   "metadata": {},
   "outputs": [
    {
     "name": "stdout",
     "output_type": "stream",
     "text": [
      "1\n",
      "2\n"
     ]
    }
   ],
   "source": [
    "# printing no of pairs\n",
    "x,y = [input() for i in range(2)]\n",
    "\n",
    "lst = [[i,j] for i in range(x+1) for j in range(y+1)]\n"
   ]
  },
  {
   "cell_type": "code",
   "execution_count": 147,
   "metadata": {},
   "outputs": [
    {
     "name": "stdout",
     "output_type": "stream",
     "text": [
      "[[0, 0], [0, 1], [0, 2], [1, 0], [1, 1], [1, 2]]\n"
     ]
    }
   ],
   "source": [
    "print lst\n"
   ]
  },
  {
   "cell_type": "code",
   "execution_count": 165,
   "metadata": {},
   "outputs": [
    {
     "name": "stdout",
     "output_type": "stream",
     "text": [
      "1\n",
      "2\n",
      "[[0, 0], [0, 1], [0, 2], [1, 0], [1, 1], [1, 2]]\n"
     ]
    }
   ],
   "source": [
    "# above program in for loop\n",
    "x =  int(input())\n",
    "y = int(input())\n",
    "ar = []\n",
    "for i in range(x+1):\n",
    "    for j in range(y+1):\n",
    "        ar.append([i,j])\n",
    "        \n",
    "print ar"
   ]
  },
  {
   "cell_type": "code",
   "execution_count": 26,
   "metadata": {},
   "outputs": [
    {
     "name": "stdout",
     "output_type": "stream",
     "text": [
      "2\n",
      "2\n",
      "[[0, 0], [0, 1], [0, 2], [1, 0], [1, 1], [2, 0], [2, 2]]\n"
     ]
    }
   ],
   "source": [
    "a = int(input())\n",
    "b = int(input())\n",
    "\n",
    "arr = []\n",
    "for i in range(a+1):\n",
    "    for j in range(b+1):\n",
    "        if (i+j) != 3:\n",
    "            arr.append([i,j])\n",
    "        \n",
    "    \n",
    "print arr\n"
   ]
  },
  {
   "cell_type": "code",
   "execution_count": null,
   "metadata": {
    "collapsed": true
   },
   "outputs": [],
   "source": []
  }
 ],
 "metadata": {
  "kernelspec": {
   "display_name": "Python 2",
   "language": "python",
   "name": "python2"
  },
  "language_info": {
   "codemirror_mode": {
    "name": "ipython",
    "version": 2
   },
   "file_extension": ".py",
   "mimetype": "text/x-python",
   "name": "python",
   "nbconvert_exporter": "python",
   "pygments_lexer": "ipython2",
   "version": "2.7.14"
  }
 },
 "nbformat": 4,
 "nbformat_minor": 2
}
