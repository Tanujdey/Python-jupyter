{
 "cells": [
  {
   "cell_type": "markdown",
   "metadata": {},
   "source": [
    "\n",
    "## keypoints of milestone projects and its all functionalities \n",
    "## Extra Notes\n"
   ]
  },
  {
   "cell_type": "code",
   "execution_count": 6,
   "metadata": {},
   "outputs": [],
   "source": [
    "# clear Optput \n",
    "from IPython.display import clear_output\n",
    "#this is used for clear the screen"
   ]
  },
  {
   "cell_type": "code",
   "execution_count": 9,
   "metadata": {},
   "outputs": [
    {
     "name": "stdout",
     "output_type": "stream",
     "text": [
      "World\n"
     ]
    }
   ],
   "source": [
    "print \"Hello\"\n",
    "clear_output()\n",
    "print \"World\"\n",
    "# \"Hello\" is cleared so world is printing"
   ]
  },
  {
   "cell_type": "code",
   "execution_count": 17,
   "metadata": {},
   "outputs": [
    {
     "name": "stdout",
     "output_type": "stream",
     "text": [
      "    |   |  \n",
      "    |   |  \n",
      "-------------\n",
      "    |   |  \n",
      "    |   |  \n",
      "-------------\n",
      "    |   |  \n",
      "    |   |  \n"
     ]
    }
   ],
   "source": [
    "# this is a sample of the board printing\n",
    "def display_board():\n",
    "    clear_output()\n",
    "    \n",
    "    print ('    |   |  ')\n",
    "    print ('    |   |  ')\n",
    "    print ('-------------')\n",
    "    print ('    |   |  ')\n",
    "    print ('    |   |  ')\n",
    "    print ('-------------')\n",
    "    print ('    |   |  ')\n",
    "    print ('    |   |  ')\n",
    "display_board()"
   ]
  },
  {
   "cell_type": "code",
   "execution_count": 52,
   "metadata": {},
   "outputs": [],
   "source": [
    "# now draw the final board with the board lists\n",
    "def display_board(board):\n",
    "    clear_output()\n",
    "    \n",
    "    print ('   |   |  ')\n",
    "    print (' ' +board[7]+ ' | ' +board[8]+' | ' +board[9])\n",
    "    print ('   |   |  ')\n",
    "    print ('-----------')\n",
    "    print ('   |   |  ')\n",
    "    print (' ' +board[4]+' | ' +board[5]+' | ' +board[6])\n",
    "    print ('   |   |  ')\n",
    "    print ('-----------')\n",
    "    print ('   |   |  ')\n",
    "    print (' ' +board[1]+' | ' +board[2]+' | ' + board[3])\n",
    "    print ('   |   |  ')\n",
    "    "
   ]
  },
  {
   "cell_type": "code",
   "execution_count": 53,
   "metadata": {},
   "outputs": [
    {
     "name": "stdout",
     "output_type": "stream",
     "text": [
      "   |   |  \n",
      " x | x | x\n",
      "   |   |  \n",
      "-----------\n",
      "   |   |  \n",
      " x | x | x\n",
      "   |   |  \n",
      "-----------\n",
      "   |   |  \n",
      " x | x | x\n",
      "   |   |  \n"
     ]
    }
   ],
   "source": [
    "boards = ['x']*10\n",
    "display_board(boards)"
   ]
  },
  {
   "cell_type": "markdown",
   "metadata": {},
   "source": [
    "#### Read input repeatedly from the user untill user puts correct \n",
    "#### use \"While not\" loops"
   ]
  },
  {
   "cell_type": "code",
   "execution_count": 4,
   "metadata": {},
   "outputs": [
    {
     "name": "stdout",
     "output_type": "stream",
     "text": [
      "Player 1: Do you want to be 'X' or 'O':value\n",
      "Player 1: Do you want to be 'X' or 'O':hello\n",
      "Player 1: Do you want to be 'X' or 'O':get\n",
      "Player 1: Do you want to be 'X' or 'O':str\n",
      "Player 1: Do you want to be 'X' or 'O':x\n"
     ]
    },
    {
     "data": {
      "text/plain": [
       "('X', 'O')"
      ]
     },
     "execution_count": 4,
     "metadata": {},
     "output_type": "execute_result"
    }
   ],
   "source": [
    "def player_input():\n",
    "    mark = '' # this is define empty string\n",
    "    while not (mark == 'X' or mark == 'O'):\n",
    "        mark = raw_input(\"Player 1: Do you want to be 'X' or 'O':\").upper()\n",
    "        \n",
    "    if mark == 'X':\n",
    "        return (\"X\",\"O\")\n",
    "    else:\n",
    "        return (\"O\",\"X\")\n",
    "player_input()"
   ]
  },
  {
   "cell_type": "code",
   "execution_count": null,
   "metadata": {
    "collapsed": true
   },
   "outputs": [],
   "source": []
  }
 ],
 "metadata": {
  "kernelspec": {
   "display_name": "Python 2",
   "language": "python",
   "name": "python2"
  },
  "language_info": {
   "codemirror_mode": {
    "name": "ipython",
    "version": 2
   },
   "file_extension": ".py",
   "mimetype": "text/x-python",
   "name": "python",
   "nbconvert_exporter": "python",
   "pygments_lexer": "ipython2",
   "version": "2.7.14"
  }
 },
 "nbformat": 4,
 "nbformat_minor": 2
}
