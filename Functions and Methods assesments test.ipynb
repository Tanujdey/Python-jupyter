{
 "cells": [
  {
   "cell_type": "markdown",
   "metadata": {},
   "source": [
    "# Functions and Methods Assesments"
   ]
  },
  {
   "cell_type": "code",
   "execution_count": 2,
   "metadata": {},
   "outputs": [
    {
     "name": "stdout",
     "output_type": "stream",
     "text": [
      "10 is in outside the given range\n"
     ]
    }
   ],
   "source": [
    "#checking the given no is in the range or not\n",
    "def check_no(num,low,high):\n",
    "    if num in range(low,high):\n",
    "        print \"{} is in the givrn range\".format(num)\n",
    "    else:\n",
    "        print \"{} is in outside the given range\".format(num)\n",
    "\n",
    "check_no(10,2,1)"
   ]
  },
  {
   "cell_type": "code",
   "execution_count": 33,
   "metadata": {
    "collapsed": true
   },
   "outputs": [],
   "source": [
    "dic = {\"first\":100,\"second\":\"Helloworld\"}"
   ]
  },
  {
   "cell_type": "code",
   "execution_count": 34,
   "metadata": {},
   "outputs": [
    {
     "data": {
      "text/plain": [
       "{'first': 100, 'second': 'Helloworld'}"
      ]
     },
     "execution_count": 34,
     "metadata": {},
     "output_type": "execute_result"
    }
   ],
   "source": [
    "dic"
   ]
  },
  {
   "cell_type": "code",
   "execution_count": 42,
   "metadata": {},
   "outputs": [
    {
     "data": {
      "text/plain": [
       "False"
      ]
     },
     "execution_count": 42,
     "metadata": {},
     "output_type": "execute_result"
    }
   ],
   "source": [
    "c = \"Hello\"\n",
    "c.isupper()"
   ]
  },
  {
   "cell_type": "code",
   "execution_count": 43,
   "metadata": {
    "collapsed": true
   },
   "outputs": [],
   "source": [
    "#checking the number of upper cases and lower cases in the given string\n",
    "def up_low(s):\n",
    "    u_count = 0\n",
    "    l_count = 0\n",
    "    for word in s:\n",
    "        if word.isupper():\n",
    "            u_count +=1\n",
    "        elif word.islower():\n",
    "            l_count +=1\n",
    "        else:\n",
    "            pass\n",
    "    print \"Original String is: \"+s\n",
    "    print \"No of upper case letters: \",u_count\n",
    "    print \"No of lower case letters: \",l_count"
   ]
  },
  {
   "cell_type": "code",
   "execution_count": 44,
   "metadata": {},
   "outputs": [
    {
     "name": "stdout",
     "output_type": "stream",
     "text": [
      "Original String is: Hello Mr. Rogers, how are you this fine Tuesday?\n",
      "No of upper case letters:  4\n",
      "No of lower case letters:  33\n"
     ]
    }
   ],
   "source": [
    "s = 'Hello Mr. Rogers, how are you this fine Tuesday?'\n",
    "up_low(s)"
   ]
  },
  {
   "cell_type": "code",
   "execution_count": 49,
   "metadata": {},
   "outputs": [
    {
     "name": "stdout",
     "output_type": "stream",
     "text": [
      "start\n",
      "s\n",
      "sentence\n"
     ]
    }
   ],
   "source": [
    "st = 'Print only the words that start with s in this sentence'\n",
    "for w in st.split():\n",
    "    if w[0] == 's':\n",
    "        print w"
   ]
  },
  {
   "cell_type": "code",
   "execution_count": 50,
   "metadata": {
    "collapsed": true
   },
   "outputs": [],
   "source": [
    "st = 'Print only the words that start with s in this sentence'\n",
    "word = [w for w in st.split() if w[0] == 't']"
   ]
  },
  {
   "cell_type": "code",
   "execution_count": 51,
   "metadata": {},
   "outputs": [
    {
     "name": "stdout",
     "output_type": "stream",
     "text": [
      "['the', 'that', 'this']\n"
     ]
    }
   ],
   "source": [
    "print word"
   ]
  },
  {
   "cell_type": "code",
   "execution_count": 52,
   "metadata": {},
   "outputs": [
    {
     "name": "stdout",
     "output_type": "stream",
     "text": [
      "only\n",
      "that\n",
      "with\n",
      "in\n",
      "this\n",
      "sentence\n"
     ]
    }
   ],
   "source": [
    "st = 'Print only the words that start with s in this sentence'\n",
    "for i in st.split():\n",
    "    if len(i)%2 == 0:\n",
    "        print i"
   ]
  },
  {
   "cell_type": "code",
   "execution_count": 2,
   "metadata": {},
   "outputs": [
    {
     "name": "stdout",
     "output_type": "stream",
     "text": [
      "['P', 'o', 't', 'w', 't', 's', 'w', 's', 'i', 't', 's']\n"
     ]
    }
   ],
   "source": [
    "st = 'Print only the words that start with s in this sentence'\n",
    "ls = []\n",
    "for i in st.split():\n",
    "    ls.append(i[0])\n",
    "    \n",
    "print ls"
   ]
  },
  {
   "cell_type": "code",
   "execution_count": 55,
   "metadata": {},
   "outputs": [
    {
     "name": "stdout",
     "output_type": "stream",
     "text": [
      "Original string: Print total Count the letters that has Upper cases Letters lower case letters in this sentence\n",
      "total upper case letters:  4\n",
      "total lower case letters:  75\n"
     ]
    }
   ],
   "source": [
    "#checking the upper case and lower case in the given string using dictionary methods\n",
    "def check_up_lo(string):\n",
    "    dic = {'upper':0, 'lower':0}\n",
    "    for st in string:\n",
    "        if st.isupper():\n",
    "            dic['upper'] += 1\n",
    "        elif st.islower():\n",
    "            dic['lower'] += 1\n",
    "        else:\n",
    "            pass\n",
    "    print \"Original string: \"+string\n",
    "    print \"total upper case letters: \",dic['upper']\n",
    "    print \"total lower case letters: \",dic['lower']\n",
    "    \n",
    "st = 'Print total Count the letters that has Upper cases Letters lower case letters in this sentence'\n",
    "check_up_lo(st)"
   ]
  },
  {
   "cell_type": "code",
   "execution_count": 82,
   "metadata": {},
   "outputs": [
    {
     "name": "stdout",
     "output_type": "stream",
     "text": [
      "HELLO\n",
      "MR.\n",
      "Rogers,\n",
      "Tuesday\n"
     ]
    }
   ],
   "source": [
    "#printing the upper case words or Starting letter upper case in the given string\n",
    "def check_string(string):\n",
    "    for st in string.split():\n",
    "        #print st\n",
    "        if st[0].isupper():\n",
    "            print st\n",
    "        #elif st[0].islower():\n",
    "           #print st'''\n",
    "        else:\n",
    "            pass\n",
    "s = 'HELLO MR. Rogers, how are you this fine Tuesday'\n",
    "check_string(s)"
   ]
  },
  {
   "cell_type": "code",
   "execution_count": 84,
   "metadata": {},
   "outputs": [
    {
     "name": "stdout",
     "output_type": "stream",
     "text": [
      "['H', 'M', 'R', 'T']\n"
     ]
    }
   ],
   "source": [
    "#printing the upper case letters in the strings\n",
    "ls = []\n",
    "def upper(st):\n",
    "    for string in st:\n",
    "        if string.isupper():\n",
    "            ls.append(string)\n",
    "        else:\n",
    "            pass\n",
    "    print ls\n",
    "s = 'Hello Mr. Rogers, how are you this fine Tuesday?'\n",
    "upper(s)\n",
    "    "
   ]
  },
  {
   "cell_type": "markdown",
   "metadata": {},
   "source": [
    " **Sample List : [1,1,1,1,2,2,3,3,3,3,4,5]**\n",
    " Unique List : [1, 2, 3, 4, 5]"
   ]
  },
  {
   "cell_type": "code",
   "execution_count": 89,
   "metadata": {},
   "outputs": [
    {
     "data": {
      "text/plain": [
       "[1, 2, 3, 4, 5]"
      ]
     },
     "execution_count": 89,
     "metadata": {},
     "output_type": "execute_result"
    }
   ],
   "source": [
    "#checking the unique elements form the given list and print unique nos in the lists\n",
    "def unique(lists):\n",
    "    u_list = []\n",
    "    \n",
    "    for item in lists:\n",
    "        if item not in u_list:\n",
    "            u_list.append(item)\n",
    "        \n",
    "    return u_list\n",
    "unique([1,1,1,1,2,2,3,3,3,3,4,5])"
   ]
  },
  {
   "cell_type": "code",
   "execution_count": 93,
   "metadata": {},
   "outputs": [
    {
     "name": "stdout",
     "output_type": "stream",
     "text": [
      "Repeating elements are:\n",
      "4 2\n"
     ]
    }
   ],
   "source": [
    "# printing the repeating nos in the list\n",
    "\n",
    "def printRepeating(ar, size):\n",
    "    print \"Repeating elements are:\"\n",
    "    for i in range(0,size):\n",
    "        for j in range(i+1,size):\n",
    "            if ar[i] == ar[j]:\n",
    "                print ar[i],\n",
    "        \n",
    "arr = [4, 2, 4, 5, 2, 3, 1]\n",
    "arr_size = len(arr)\n",
    "result = printRepeating(arr,arr_size)"
   ]
  },
  {
   "cell_type": "code",
   "execution_count": 98,
   "metadata": {},
   "outputs": [
    {
     "name": "stdout",
     "output_type": "stream",
     "text": [
      "Unique elements are in the list\n",
      "1 2 3 4 5\n"
     ]
    }
   ],
   "source": [
    "# returning the unique eements form the list using set() \n",
    "def func(li):\n",
    "    #insert the list into set\n",
    "    u_list = set(li)\n",
    "    #convert the set into a list (set function do not store repeatating values)\n",
    "    unique = list(u_list)\n",
    "    print \"Unique elements are in the list\"\n",
    "    for item in unique:\n",
    "        print item,\n",
    "    \n",
    "list1 = [4,2,3,4,5,2,3,1]\n",
    "func(list1)"
   ]
  },
  {
   "cell_type": "markdown",
   "metadata": {},
   "source": []
  },
  {
   "cell_type": "code",
   "execution_count": 99,
   "metadata": {},
   "outputs": [
    {
     "name": "stdout",
     "output_type": "stream",
     "text": [
      "Enter a string : hello\n",
      "not palndrome\n"
     ]
    }
   ],
   "source": [
    "#checkig the given string is palindrome or not\n",
    "def chck_reverse(s):\n",
    "    return s[::-1]\n",
    "def isPalindrome(s):\n",
    "    rev = chck_reverse(s)\n",
    "    if s == rev:\n",
    "        print \"palindrom\"\n",
    "    else:\n",
    "        print \"not palndrome\"\n",
    "\n",
    "string = raw_input(\"Enter a string : \")\n",
    "isPalindrome(string)\n"
   ]
  },
  {
   "cell_type": "code",
   "execution_count": 107,
   "metadata": {},
   "outputs": [
    {
     "name": "stdout",
     "output_type": "stream",
     "text": [
      "['H', 't', 'i', 't', 'p', 'j', 'n']\n"
     ]
    }
   ],
   "source": [
    "#pratcise\n",
    "st = \"Hello this is the python jupyter notebook!\"\n",
    "ls = []\n",
    "for s in st.split():\n",
    "    #print s[0]\n",
    "    ls.append(s[0])\n",
    "print ls"
   ]
  },
  {
   "cell_type": "code",
   "execution_count": 103,
   "metadata": {
    "collapsed": true
   },
   "outputs": [],
   "source": [
    "#above problem in lists compreheinsions\n",
    "lists = [ word[0] for word in st.split()]"
   ]
  },
  {
   "cell_type": "code",
   "execution_count": 104,
   "metadata": {},
   "outputs": [
    {
     "name": "stdout",
     "output_type": "stream",
     "text": [
      "['H', 't', 'i', 't', 'p', 'j', 'n']\n"
     ]
    }
   ],
   "source": [
    "print lists"
   ]
  },
  {
   "cell_type": "code",
   "execution_count": 126,
   "metadata": {},
   "outputs": [
    {
     "name": "stdout",
     "output_type": "stream",
     "text": [
      "Enter the range of array:5\n",
      "Enter values:1\n",
      "Enter values:2\n",
      "Enter values:3\n",
      "Enter values:4\n",
      "Enter values:5\n",
      "Second Largest Element is: 1\n"
     ]
    }
   ],
   "source": [
    "#checking the second largest the given list\n",
    "def second_largest(arr, size):\n",
    "    large1 = arr[0]\n",
    "    for i in range(0,size):\n",
    "        if arr[i] > large1:\n",
    "            large1 = arr[i]\n",
    "    \n",
    "    large2 = arr[0]\n",
    "    for i in range(0,size):\n",
    "        if arr[i]>large2 and arr[i]<large1:\n",
    "            large2 = arr[i]\n",
    "        return large2\n",
    "\n",
    "\n",
    "n = int(input(\"Enter the range of array:\"))\n",
    "arr = []\n",
    "for i in range(n):\n",
    "    arr.append(int(input(\"Enter values:\")))\n",
    "arr_size = len(arr)\n",
    "result = second_largest(arr,arr_size)\n",
    "print \"Second Largest Element is:\",result"
   ]
  },
  {
   "cell_type": "code",
   "execution_count": null,
   "metadata": {
    "collapsed": true
   },
   "outputs": [],
   "source": []
  }
 ],
 "metadata": {
  "kernelspec": {
   "display_name": "Python 2",
   "language": "python",
   "name": "python2"
  },
  "language_info": {
   "codemirror_mode": {
    "name": "ipython",
    "version": 2
   },
   "file_extension": ".py",
   "mimetype": "text/x-python",
   "name": "python",
   "nbconvert_exporter": "python",
   "pygments_lexer": "ipython2",
   "version": "2.7.14"
  }
 },
 "nbformat": 4,
 "nbformat_minor": 2
}
