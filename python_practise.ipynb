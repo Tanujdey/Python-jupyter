{
 "cells": [
  {
   "cell_type": "code",
   "execution_count": 4,
   "metadata": {},
   "outputs": [
    {
     "name": "stdout",
     "output_type": "stream",
     "text": [
      "['apple', 'mango', 'pineapple', 'pineapple', 'banana']\n"
     ]
    }
   ],
   "source": [
    "words = ['apple','mango','pineapple','banana']\n",
    "for w in words[:]:\n",
    "    if len(w)>6:\n",
    "        words.insert(2,w)\n",
    "print(words)\n"
   ]
  },
  {
   "cell_type": "code",
   "execution_count": 2,
   "metadata": {},
   "outputs": [
    {
     "name": "stdout",
     "output_type": "stream",
     "text": [
      "0\n",
      "2\n",
      "4\n",
      "6\n",
      "8\n",
      "10\n",
      "12\n",
      "14\n"
     ]
    }
   ],
   "source": [
    "for i in range(0,15,2):\n",
    "    print(i)"
   ]
  },
  {
   "cell_type": "code",
   "execution_count": 27,
   "metadata": {},
   "outputs": [
    {
     "name": "stdout",
     "output_type": "stream",
     "text": [
      "5\n",
      "helo\n",
      "hai\n",
      "jo\n",
      "nj\n",
      "has\n",
      "['helo', 'hai', 'jo', 'nj', 'has']\n"
     ]
    }
   ],
   "source": [
    "# first argument input() define the reading string\n",
    "# second range(int(input())) define the no of string want to store\n",
    "string = [input() for i in range(int(input()))]\n",
    "print (string)"
   ]
  },
  {
   "cell_type": "code",
   "execution_count": 26,
   "metadata": {},
   "outputs": [
    {
     "name": "stdout",
     "output_type": "stream",
     "text": [
      "5\n",
      "Makie\n",
      "has\n",
      "a\n",
      "mobile\n",
      "phone\n",
      "\n",
      "\n",
      "0 Makie\n",
      "1 has\n",
      "2 a\n",
      "3 mobile\n",
      "4 phone\n"
     ]
    }
   ],
   "source": [
    "st = [input() for i in range(int(input()))]\n",
    "print(\"\\n\")\n",
    "for i in range(len(st)):\n",
    "    print(i,st[i])"
   ]
  },
  {
   "cell_type": "code",
   "execution_count": 29,
   "metadata": {},
   "outputs": [
    {
     "name": "stdout",
     "output_type": "stream",
     "text": [
      "range(0, 5)\n"
     ]
    }
   ],
   "source": [
    "print(range(5))"
   ]
  },
  {
   "cell_type": "code",
   "execution_count": 30,
   "metadata": {},
   "outputs": [
    {
     "data": {
      "text/plain": [
       "[0, 1, 2, 3, 4, 5, 6, 7]"
      ]
     },
     "execution_count": 30,
     "metadata": {},
     "output_type": "execute_result"
    }
   ],
   "source": [
    "list(range(8))"
   ]
  },
  {
   "cell_type": "code",
   "execution_count": 51,
   "metadata": {},
   "outputs": [
    {
     "name": "stdout",
     "output_type": "stream",
     "text": [
      "4\n",
      "1\n",
      "2\n",
      "5\n",
      "3\n",
      "Non matching item- 1\n",
      "Non matching item- 2\n",
      "item matched with 5 comeout the loop\n",
      "Out of the loop\n"
     ]
    }
   ],
   "source": [
    "x = [int(input()) for i in range(int(input()))]\n",
    "for item in x:\n",
    "    if item == 5:\n",
    "        print(\"item matched with\",item,\"comeout the loop\")\n",
    "        break\n",
    "    else:\n",
    "        print(\"Non matching item-\",item)\n",
    "        \n",
    "else:\n",
    "    #this block occur when item not matched or break condition is not occur\n",
    "    print(\"else block ! item not matched 5\")   \n",
    "print(\"Out of the loop\")"
   ]
  },
  {
   "cell_type": "code",
   "execution_count": 60,
   "metadata": {},
   "outputs": [
    {
     "name": "stdout",
     "output_type": "stream",
     "text": [
      "Even no - 2\n",
      "odd no 3\n",
      "Even no - 4\n",
      "odd no 5\n",
      "Even no - 6\n",
      "odd no 7\n",
      "Even no - 8\n",
      "odd no 9\n"
     ]
    }
   ],
   "source": [
    "#continue\n",
    "for num in range(2,10):\n",
    "    if num %2 == 0:\n",
    "        print(\"Even no -\",num)\n",
    "        continue\n",
    "    print(\"odd no\",num)"
   ]
  },
  {
   "cell_type": "code",
   "execution_count": 6,
   "metadata": {},
   "outputs": [
    {
     "name": "stdout",
     "output_type": "stream",
     "text": [
      "Read no:3\n",
      "Not stisfy the condn!! Read again!\n",
      "Read no:4\n",
      "Not stisfy the condn!! Read again!\n",
      "Read no:2\n",
      "x is 2\n",
      "Accepted condition\n"
     ]
    }
   ],
   "source": [
    "# testiong while loop to repeatedly\n",
    "while True:\n",
    "    x = int(input(\"Read no:\"))\n",
    "    if x < 0:\n",
    "        x = 0\n",
    "        print(\"X changed to\",x)\n",
    "    elif x== 0:\n",
    "        print(\"x is\",x)\n",
    "        print(\"condition satisfied !! so comeout the loop\")\n",
    "        break\n",
    "    elif x == 2:\n",
    "        print(\"x is\",x)\n",
    "        print(\"Accepted condition\")\n",
    "        break\n",
    "    else:\n",
    "        print(\"Not stisfy the condn!! Read again!\")"
   ]
  },
  {
   "cell_type": "code",
   "execution_count": 14,
   "metadata": {},
   "outputs": [
    {
     "name": "stdout",
     "output_type": "stream",
     "text": [
      "Read no:2\n",
      "You read EVEN no!\n",
      "Read no:4\n",
      "You read EVEN no!\n",
      "Read no:6\n",
      "You read EVEN no!\n",
      "Read no:3\n",
      "Not even\n"
     ]
    }
   ],
   "source": [
    "#continue\n",
    "while True:\n",
    "    n = int(input(\"Read no:\"))\n",
    "    if n %2 ==0:\n",
    "        print(\"You read EVEN no!\")\n",
    "        continue\n",
    "    else:\n",
    "        print(\"Not even\")\n",
    "        break"
   ]
  },
  {
   "cell_type": "code",
   "execution_count": 14,
   "metadata": {},
   "outputs": [
    {
     "name": "stdout",
     "output_type": "stream",
     "text": [
      "Do you really want to check ?!! y\n",
      "read no: 34\n",
      "even\n",
      "Do you really want to check ?!! t\n",
      "read no: 12\n",
      "even\n",
      "Do you really want to check ?!! no\n",
      "Please try again\n"
     ]
    }
   ],
   "source": [
    "# default arguments\n",
    "def ask_ok(prompt,remainder=\"Please try again\"):\n",
    "        while True:\n",
    "            ok = input(prompt)\n",
    "            #if ok not in ('n','N','NO','no'): this also works \n",
    "            if not (ok == \"no\" or ok ==\"NO\"):\n",
    "                n = int(input(\"read no: \"))\n",
    "                if n%2 == 0:\n",
    "                    print ('even')\n",
    "                else:\n",
    "                    print('odd')\n",
    "            else:\n",
    "                print(remainder)\n",
    "                break   \n",
    "               \n",
    "            \n",
    "            #retry = retry-1\n",
    "            #if retry<0:\n",
    "            #      raise ValueError('Invalid user response',retry)\n",
    "            #print(remainder)\n",
    "ask_ok('Do you really want to check ?!! ')"
   ]
  },
  {
   "cell_type": "code",
   "execution_count": 5,
   "metadata": {},
   "outputs": [
    {
     "name": "stdout",
     "output_type": "stream",
     "text": [
      "-- This water isn't pure if you put carbonMonoxide into it! It's is normal state !\n"
     ]
    }
   ],
   "source": [
    "# unpacking arguments lists  from \"dictionary\"\n",
    "def parrot(material,state='normal',action='pure'):\n",
    "    print(\"-- This water isn't\",action, end=\" \")\n",
    "    print(\"if you put\",material,\"into it!\",end=\" \")\n",
    "    print(\"It's is\", state, \"state !\")\n",
    "\n",
    "dic = {'material':'carbonMonoxide'}\n",
    "parrot(**dic) # this is a default arguments example"
   ]
  },
  {
   "cell_type": "code",
   "execution_count": 7,
   "metadata": {},
   "outputs": [
    {
     "name": "stdout",
     "output_type": "stream",
     "text": [
      " Do nothing but documented it.\n",
      "        No, really , it doesn't do anything\n"
     ]
    }
   ],
   "source": [
    "# docstring example\n",
    "def my_function():\n",
    "    \"\"\" Do nothing but documented it.\n",
    "        No, really , it doesn't do anything\"\"\"\n",
    "    pass\n",
    "print(my_function.__doc__)"
   ]
  },
  {
   "cell_type": "code",
   "execution_count": 9,
   "metadata": {},
   "outputs": [
    {
     "data": {
      "text/plain": [
       "\" Do nothing but documented it.\\n        No, really , it doesn't do anything\""
      ]
     },
     "execution_count": 9,
     "metadata": {},
     "output_type": "execute_result"
    }
   ],
   "source": [
    "my_function.__doc__"
   ]
  },
  {
   "cell_type": "code",
   "execution_count": 29,
   "metadata": {},
   "outputs": [
    {
     "name": "stdout",
     "output_type": "stream",
     "text": [
      "[2, 3, 4, 5, 6, 7, 8, 9]\n"
     ]
    },
    {
     "data": {
      "text/plain": [
       "[1, 2, 3, 4]"
      ]
     },
     "execution_count": 29,
     "metadata": {},
     "output_type": "execute_result"
    }
   ],
   "source": [
    "#unpacking \n",
    "print(list(range(2,10)))\n",
    "# normal call with seperate arguments\n",
    "#-----------\n",
    "\n",
    "args=[1,5]\n",
    "list(range(*args)) \n",
    "# call with arguments unpacked from a list"
   ]
  },
  {
   "cell_type": "code",
   "execution_count": 32,
   "metadata": {},
   "outputs": [
    {
     "data": {
      "text/plain": [
       "('earth', 'march', 'venus', 'neptune', 'pluto')"
      ]
     },
     "execution_count": 32,
     "metadata": {},
     "output_type": "execute_result"
    }
   ],
   "source": [
    "#------------This is an Arbitary Arguments Lists\n",
    "def concat(*args):\n",
    "    return args\n",
    "\n",
    "concat(\"earth\",\"march\",\"venus\",\"neptune\",\"pluto\")"
   ]
  },
  {
   "cell_type": "code",
   "execution_count": 68,
   "metadata": {},
   "outputs": [
    {
     "data": {
      "text/plain": [
       "'Hello -- John -- How -- are -- you'"
      ]
     },
     "execution_count": 68,
     "metadata": {},
     "output_type": "execute_result"
    }
   ],
   "source": [
    "# above example with the seperation included\n",
    "def concat_sep(*words,sep=\"/\"):\n",
    "    return sep.join(words)\n",
    "\n",
    "#concat_sep('Apple','Mango','Banana',\"Orange\",sep=\"--\")\n",
    "concat_sep(\"Hello\",\"John\",\"How\",\"are\",\"you\",sep=\" -- \")"
   ]
  },
  {
   "cell_type": "code",
   "execution_count": null,
   "metadata": {
    "collapsed": true
   },
   "outputs": [],
   "source": []
  }
 ],
 "metadata": {
  "kernelspec": {
   "display_name": "Python 3",
   "language": "python",
   "name": "python3"
  },
  "language_info": {
   "codemirror_mode": {
    "name": "ipython",
    "version": 3
   },
   "file_extension": ".py",
   "mimetype": "text/x-python",
   "name": "python",
   "nbconvert_exporter": "python",
   "pygments_lexer": "ipython3",
   "version": "3.5.2"
  }
 },
 "nbformat": 4,
 "nbformat_minor": 2
}
